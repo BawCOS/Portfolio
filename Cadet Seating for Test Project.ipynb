{
 "cells": [
  {
   "cell_type": "markdown",
   "metadata": {},
   "source": [
    "# Occupancy in a Classroom"
   ]
  },
  {
   "cell_type": "markdown",
   "metadata": {},
   "source": [
    "### Bradley Warner\n",
    "### Feb 5, 2019\n",
    "\n",
    "This project is based on a problem poised in the {538 blog ](http://fivethirtyeight.com/features/can-you-solve-the-puzzle-of-your-misanthropic-neighbors/).  Peter Norvig solved this problem using simulation and recursion in his [pytudes](https://github.com/norvig/pytudes). We have borrowed his format and much of his code and ideas. However, we have supplemented his work with several ideas. We have added a discussion of minimum and maximum occupancy, a more efficient recursion algorithm, probability calculations based on conditional arguments, and an analytic solution using generating functions. We feel these are significant additions. \n",
    "\n",
    "This problem is known as the urinal problem in the mathematical literature."
   ]
  },
  {
   "cell_type": "markdown",
   "metadata": {},
   "source": [
    "### Problem Statement\n",
    "Consider this problem:\n",
    "    \n",
    "> *The Registrar at the United States Air Force Academy is interested in seating for finals. Suppose there is a row of some number, N, of seats in a classroom/lectinar. Cadets enter the room one at a time and selecting a seat at random from those that have nobody in them and nobody in the adjacent seats. To keep the problem simple, we will consider all rows of the lectinar as one long continuous row. Otherwise we would have to worry about seats at the end of each row and seats in front and behind. Students keep coming into the room until no acceptable seats remain. *\n",
    "\n",
    "\n",
    "![N houses](classroom.jpg)"
   ]
  },
  {
   "cell_type": "markdown",
   "metadata": {},
   "source": [
    "### Problem\n",
    "What is the expected fraction of occupied seats as the room gets larger, that is, as N goes to infinity?"
   ]
  },
  {
   "cell_type": "markdown",
   "metadata": {},
   "source": [
    "## Styles of Thinking\n",
    "\n",
    "There are different ways to approach or understand this problem. We can use a purely mathematical approach, we can use a purely computational approach, or a hybrid that uses both. We will start our exploration with the hybrid approach.\n",
    "\n",
    "- **Hybrid Approach**: In this approach we will simplify the problem. We will attempt to gain insights by enumerating solutions. We then hope that we can come up with a computational method such as curve fitting or recurssion. We will select specific values for the number of seats and hope that the combination or computation and mathematics will improve our knowledge of the problem. This method never proves a solution.\n",
    "- **Computational Thinking**: In this method, we will use simulation to replicate the problem for a fixed number of seats. This can either confirm our hybric approach or provide additional insights.\n",
    "- **Mathematical Style**: This style uses sophisticated mathematics (e.g. generating functions, differentiation, asymptotic analysis, and manipulation of summations). It develops a proof of the result. This is clearly challenging and not always possible.\n",
    "\n",
    "In this specific puzzle, our steps will:\n",
    "- Explore the problem by simplifying and enumerating possibilities for small values of `n`.\n",
    "- Simulate the process and examine insights.\n",
    "- Develop a recurive process and plot results and examine them for insight.\n",
    "- Solve numerically for the value using curve fitting.\n",
    "- Given that formula, mathematically justify the results.\n",
    "\n",
    "This is mostly  computational thinking, with a little mathematical thrown in. "
   ]
  },
  {
   "cell_type": "markdown",
   "metadata": {},
   "source": [
    "## Explore: Simplify and Enumerate\n",
    "\n",
    "At most, one out of two seats will be occupied; that is if the room only has two seats, then only one cadet can be in the room. The fraction of occupied seats,or *density*, is 1/*N* = 1/2.    \n",
    "\n",
    "In the case of three seats, either one seat will be occupied, the middle one, or two will be occupied, the two edge seats. The average occupancy is 5/3 = 1/3+2/3+2/3 in this case. The density is (5/3)/3 = 5/9."
   ]
  },
  {
   "cell_type": "markdown",
   "metadata": {},
   "source": [
    "#### Consider *N* = 4 Seats\n",
    "To make sure we understand the problem, let's try a simple example, with *N*=4 seats. We will represent the  originally empty row of four seats by four dots, this is Peter's notation:\n",
    "\n",
    "     ....\n",
    "     \n",
    "Now the first cadet randomly chooses one of the four seats (which are all acceptable). We'll indicate an occupied seat by a `1`, so the four equiprobable choices are, note we are using a 0 based index to conform with python:\n",
    "\n",
    "     Choice 0: 1...\n",
    "     Choice 1: .1..\n",
    "     Choice 2: ..1.\n",
    "     Choice 3: ...1\n",
    "     \n",
    "When a seat is occupied, any adjacent seats become unacceptable. We'll indicate that with a `0`:\n",
    "\n",
    "     Choice 0: 10..\n",
    "     Choice 1: 010.\n",
    "     Choice 2: .010\n",
    "     Choice 3: ..01\n",
    "     \n",
    "In all four cases, a second cadet has a place to sit, but then there is no place for a third cadet. \n",
    "The occupancy is 2 in all cases, and thus the *expected occpancy* is 2. The occupancy fraction, or *density*, is 2/*N* = 2/4 = 1/2.  "
   ]
  },
  {
   "cell_type": "markdown",
   "metadata": {},
   "source": [
    "#### Early Conjecture\n",
    "Notice that the choice of a seat can either remove 2 or 3 available seats. Thus, an early conjecture is the average occupancy will be between 1/2 and 1/3."
   ]
  },
  {
   "cell_type": "markdown",
   "metadata": {},
   "source": [
    "### Minimum and Maximum"
   ]
  },
  {
   "cell_type": "markdown",
   "metadata": {},
   "source": [
    "Let's bound the density by finding expression for the minimum numbers of cadets in the room where there are no available seats and the maximum number of cadets in the room where there are no available seats."
   ]
  },
  {
   "cell_type": "markdown",
   "metadata": {},
   "source": [
    "#### Case 1 N is even"
   ]
  },
  {
   "cell_type": "markdown",
   "metadata": {},
   "source": [
    "When $N$ is even, to get the maximum we can start in either the first or second seat and then skip a seat. This gives the maximum number of occupied seats as we can't get the cadets any closer together. Thus we will get ${N \\over 2}$ for the maximum number of occupied seats. Thus the maximum density is ${1 \\over 2}$.  \n",
    "\n",
    "For the minimum, we can start in the second seat or first seat. We then want the maximum spread which is three seats away. If we put a cadet in the first seat we can put a cadet in the fourth seat and the two seats inbetween are not available. We are essentailly counting by threes. We have two possibilities, $N$ is divisible by 3 or $N$ has remainder 2 when divided by 3. In the first case we have the number of occupied seats. In the second case we need to round up to the next nearest integer. This is called the ceiling function, defined as:\n",
    "\n",
    "$$\\lceil x \\rceil = min\\{n \\in \\mathrm{N} \\vert n \\geq x \\}$$ \n",
    "\n",
    "Thus the minimum density is ${\\lceil {N \\over 3} \\rceil \\over N}$.  \n",
    "\n",
    "Let's load some packages to help us visualize the results."
   ]
  },
  {
   "cell_type": "code",
   "execution_count": 1,
   "metadata": {},
   "outputs": [],
   "source": [
    "import numpy as np\n",
    "#Allows the plot to render in the notebook\n",
    "%matplotlib inline \n",
    "# Import mean\n",
    "from statistics import mean\n",
    "import matplotlib.pyplot as plt\n",
    "plt.style.use('fivethirtyeight')"
   ]
  },
  {
   "cell_type": "code",
   "execution_count": 2,
   "metadata": {},
   "outputs": [
    {
     "data": {
      "image/png": "[encoded data removed]",
      "text/plain": [
       "<matplotlib.figure.Figure at 0x287e23f3cc0>"
      ]
     },
     "metadata": {},
     "output_type": "display_data"
    }
   ],
   "source": [
    "xs=np.arange(2,100,2)\n",
    "xs\n",
    "plt.plot(xs,np.ceil(xs/3)/xs)\n",
    "plt.plot(xs,(xs/2)/xs);"
   ]
  },
  {
   "cell_type": "code",
   "execution_count": 3,
   "metadata": {},
   "outputs": [
    {
     "data": {
      "image/png": "[encoded data removed]",
      "text/plain": [
       "<matplotlib.figure.Figure at 0x287e242e2e8>"
      ]
     },
     "metadata": {},
     "output_type": "display_data"
    }
   ],
   "source": [
    "xs=np.arange(1000,4000,2)\n",
    "xs\n",
    "plt.plot(xs,np.ceil(xs/3)/xs)\n",
    "plt.plot(xs,(xs/2)/xs);"
   ]
  },
  {
   "cell_type": "markdown",
   "metadata": {},
   "source": [
    "#### Case 2 N is odd"
   ]
  },
  {
   "cell_type": "markdown",
   "metadata": {},
   "source": [
    "For the maximum we want to start in the first seat and then go every other seat. This leads to a maximum number of occupied seats as ${N \\over 2} + {1 \\over 2}$ or $\\lceil {N \\over 2} \\rceil$. The density is  ${\\lceil {N \\over 2} \\rceil \\over N}$. \n",
    "\n",
    "For the minimum, we will have the same desnity as the even case. ${\\lceil {N \\over 3} \\rceil \\over N}$.  "
   ]
  },
  {
   "cell_type": "code",
   "execution_count": 4,
   "metadata": {},
   "outputs": [
    {
     "data": {
      "image/png": "[encoded data removed]",
      "text/plain": [
       "<matplotlib.figure.Figure at 0x287e275e748>"
      ]
     },
     "metadata": {},
     "output_type": "display_data"
    }
   ],
   "source": [
    "xs=np.arange(1,101,2)\n",
    "xs\n",
    "plt.plot(xs,np.ceil(xs/3)/xs)\n",
    "plt.plot(xs,np.ceil(xs/2)/xs);"
   ]
  },
  {
   "cell_type": "code",
   "execution_count": 5,
   "metadata": {},
   "outputs": [
    {
     "data": {
      "image/png": "[encoded data removed]",
      "text/plain": [
       "<matplotlib.figure.Figure at 0x287e2799d30>"
      ]
     },
     "metadata": {},
     "output_type": "display_data"
    }
   ],
   "source": [
    "xs=np.arange(1001,4001,2)\n",
    "xs\n",
    "plt.plot(xs,np.ceil(xs/3)/xs)\n",
    "plt.plot(xs,np.ceil(xs/2)/xs);"
   ]
  },
  {
   "cell_type": "markdown",
   "metadata": {},
   "source": [
    "Let's write a function that determines the maximum and minimum for any number of seats."
   ]
  },
  {
   "cell_type": "code",
   "execution_count": 6,
   "metadata": {},
   "outputs": [],
   "source": [
    "def minmax(n):\n",
    "    if n % 2:\n",
    "        max=np.ceil(n/2)\n",
    "        min=np.ceil(n/3)\n",
    "    else:\n",
    "        max=n/2\n",
    "        min=np.ceil(n/3)\n",
    "    return int(max),int(min)"
   ]
  },
  {
   "cell_type": "code",
   "execution_count": 7,
   "metadata": {},
   "outputs": [
    {
     "data": {
      "text/plain": [
       "(80, 54)"
      ]
     },
     "execution_count": 7,
     "metadata": {},
     "output_type": "execute_result"
    }
   ],
   "source": [
    "minmax(160)"
   ]
  },
  {
   "cell_type": "markdown",
   "metadata": {},
   "source": [
    "#### Summary to this point  \n",
    "\n",
    "We can view this problem as decomposing an integer into the sum of 2s and 3s. The number of occupied seats is the number of terms in the sum. We have to be careful because for $N$ odd, we could have a 1 at the end, think of the case of 3 seats.\n",
    "\n",
    "We can potentially get any values between the maximum and minimum by replacing a 3 with a 2 and a 1 thus increases the number of occuppied seats.  \n",
    "\n",
    "Our problem of finding the average occupancy, density, is just a weighted average of the minimum through maximum number of occuppied seats. In the limit, this value will be between 1/2 and 1/3."
   ]
  },
  {
   "cell_type": "markdown",
   "metadata": {},
   "source": [
    "### Continuing our exploration  \n",
    "\n",
    "Let's look at 5 seats to see if we can gain some more insight into the problem. We want to start to determine the size of the weightings in the averaging process. "
   ]
  },
  {
   "cell_type": "markdown",
   "metadata": {},
   "source": [
    "#### Consider *N* = 5 Seats\n",
    "\n",
    "With *N* = 5 seats, there are 5 equiprobable choices for the first cadet:\n",
    "\n",
    "     Choice 0: 10...\n",
    "     Choice 1: 010..\n",
    "     Choice 2: .010.\n",
    "     Choice 3: ..010\n",
    "     Choice 4: ...01"
   ]
  },
  {
   "cell_type": "markdown",
   "metadata": {},
   "source": [
    "Each seat has has the same probability of being selected at this point, 1/5, or in the general case ${1 \\over N}$.  The number of available seats for the next cadet is the number of available seats.  This will depend on if 2 available seats were selected with the first student or 3 seats.\n",
    "\n",
    "Suppose the first cadet selected seat 0, since there are 5 choices, this has probability 1/5. Now there are three choices for the next cadet. Suppose she selects seat 3. Now there are no more available seats. This ordering $[0,3]$ has probability 1/15.  \n",
    "\n",
    "Suppose the order were reversed, that seat 3 was selected first and seat 0 second. This has probability 1/10. This problem is not symmetric and the weightings will depend on the order of the seats selected."
   ]
  },
  {
   "cell_type": "markdown",
   "metadata": {},
   "source": [
    "Let's list out the ordering of seat selections and their probabilities:\n",
    "\n",
    "| Ordering | Probability | Occupied |  \n",
    "| ------------|-----------|-----------|  \n",
    "| [0,2,4] | 1/15 | 3 |  \n",
    "| [0,3] | 1/15 | 2 | \n",
    "| [0,4,2] |  1/15 | 3 |  \n",
    "| [1, 3] | 1/10 | 2 | \n",
    "| [1,4]|1/10 |2 | \n",
    "| [2,0,4] |1/10 |3 | \n",
    "| [2,4,0] | 1/10 |3 | \n",
    "|[3, 1] | 1/10 | 2|   \n",
    "| [3,0] | 1/10 |2 | \n",
    "| [4,2,0] |1/15 | 3| \n",
    "|[4,0,2] |1/15 |3 | \n",
    "| [4,1] |1/15 | 2|   \n",
    "\n",
    "The probability column adds to one as it should. The expected occupancy is the sum of the product of probability and number of occupied seats."
   ]
  },
  {
   "cell_type": "code",
   "execution_count": 8,
   "metadata": {},
   "outputs": [
    {
     "name": "stdout",
     "output_type": "stream",
     "text": [
      "The average number of occupied seats our of 5 is 2.4667\n",
      "The density of occupied seats out of 5 is 0.4933\n"
     ]
    }
   ],
   "source": [
    "probs = np.repeat([1/15,1/10],[6,6])\n",
    "occupied = np.repeat([3,2,3,2],[4,2,2,4])\n",
    "print('The average number of occupied seats our of 5 is {:.4f}'.format(sum(probs*occupied)))\n",
    "print('The density of occupied seats out of 5 is {:.4f}'.format(sum(probs*occupied)/5))"
   ]
  },
  {
   "cell_type": "markdown",
   "metadata": {},
   "source": [
    "Notice that of the twelve orderings, half have the minimum number of seats and half have the maximum. However, when 3 seats are taken four of the six cases have the lower probability of 1/15. For the orderings with 2 seats taken, four of them have the larger probability of 1/10. In the case of 5 seats, this was enough to lower the average number of occupied seats below 2.5.  \n",
    "\n",
    "Will this hold?  "
   ]
  },
  {
   "cell_type": "markdown",
   "metadata": {},
   "source": [
    "## Simulation\n",
    "\n",
    "\n",
    "A simulation can help to verify our results to this point and then be used to generalize. It can also give insights on how to proceed. This is a purely computational approach to the problem.\n",
    "\n",
    "The simulation will start with an empty set of occupied seats. We then go through the seats in random order, occupying just the ones that have no neighbor. (Note that `random.sample(range(n), n)` gives a random ordering of `range(n)`.)\n",
    "\n",
    "We use Peter's code for the simulation and counting below."
   ]
  },
  {
   "cell_type": "code",
   "execution_count": 9,
   "metadata": {},
   "outputs": [],
   "source": [
    "# Import the needed package\n",
    "import random"
   ]
  },
  {
   "cell_type": "code",
   "execution_count": 10,
   "metadata": {},
   "outputs": [
    {
     "data": {
      "text/plain": [
       "[7, 9, 3, 5, 4, 2, 0, 6, 8, 1]"
      ]
     },
     "execution_count": 10,
     "metadata": {},
     "output_type": "execute_result"
    }
   ],
   "source": [
    "random.sample(range(10),10)"
   ]
  },
  {
   "cell_type": "code",
   "execution_count": 1,
   "metadata": {},
   "outputs": [],
   "source": [
    "# Peter's code\n",
    "def simulate(n):\n",
    "    \"Simulate seating in seats, and return a sorted tuple of occupied seats.\"\n",
    "    occupied = set()\n",
    "    for seat in random.sample(range(n), n):\n",
    "        if (seat - 1) not in occupied and (seat + 1) not in occupied:\n",
    "            occupied.add(seat)\n",
    "    return sorted(occupied)"
   ]
  },
  {
   "cell_type": "code",
   "execution_count": 12,
   "metadata": {},
   "outputs": [
    {
     "data": {
      "text/plain": [
       "[1, 3, 5, 7, 9]"
      ]
     },
     "execution_count": 12,
     "metadata": {},
     "output_type": "execute_result"
    }
   ],
   "source": [
    "simulate(10)"
   ]
  },
  {
   "cell_type": "code",
   "execution_count": 13,
   "metadata": {},
   "outputs": [],
   "source": [
    "def simulated_density(n, repeat=10000):\n",
    "    \"Estimate density by simulation, repeated `repeat` times.\"\n",
    "    return mean(len(simulate(n)) / n \n",
    "                for _ in range(repeat))"
   ]
  },
  {
   "cell_type": "markdown",
   "metadata": {},
   "source": [
    "Let's simulate a couple of times with 5 seats to see the orderings we get."
   ]
  },
  {
   "cell_type": "code",
   "execution_count": 14,
   "metadata": {},
   "outputs": [
    {
     "data": {
      "text/plain": [
       "[0, 2, 4]"
      ]
     },
     "execution_count": 14,
     "metadata": {},
     "output_type": "execute_result"
    }
   ],
   "source": [
    "simulate(5)"
   ]
  },
  {
   "cell_type": "code",
   "execution_count": 15,
   "metadata": {},
   "outputs": [
    {
     "data": {
      "text/plain": [
       "[1, 4]"
      ]
     },
     "execution_count": 15,
     "metadata": {},
     "output_type": "execute_result"
    }
   ],
   "source": [
    "simulate(5)"
   ]
  },
  {
   "cell_type": "code",
   "execution_count": 16,
   "metadata": {},
   "outputs": [
    {
     "data": {
      "text/plain": [
       "0.49434"
      ]
     },
     "execution_count": 16,
     "metadata": {},
     "output_type": "execute_result"
    }
   ],
   "source": [
    "simulated_density(5)"
   ]
  },
  {
   "cell_type": "markdown",
   "metadata": {},
   "source": [
    "This is close, if we ran more repeats it should be closer."
   ]
  },
  {
   "cell_type": "code",
   "execution_count": 17,
   "metadata": {},
   "outputs": [
    {
     "data": {
      "text/plain": [
       "0.4932444"
      ]
     },
     "execution_count": 17,
     "metadata": {},
     "output_type": "execute_result"
    }
   ],
   "source": [
    "simulated_density(5,1000000)"
   ]
  },
  {
   "cell_type": "markdown",
   "metadata": {},
   "source": [
    "Now let's repeat simulate multiple times and keep track of the orderings. Since we ordered the seats in our code we will have to combine the orderings so\n",
    "that order does not matter.  Thus we have [0,2,4], [0,3], [1,3], and [1,4] with probabilities 14/30, 5/30, 6/30, and 5/30."
   ]
  },
  {
   "cell_type": "code",
   "execution_count": 18,
   "metadata": {},
   "outputs": [
    {
     "data": {
      "text/plain": [
       "[0.4666666666666667, 0.16666666666666666, 0.2, 0.16666666666666666]"
      ]
     },
     "execution_count": 18,
     "metadata": {},
     "output_type": "execute_result"
    }
   ],
   "source": [
    "[14/30, 5/30, 6/30, 5/30]"
   ]
  },
  {
   "cell_type": "markdown",
   "metadata": {},
   "source": [
    "The expected number of occupied seats is:"
   ]
  },
  {
   "cell_type": "code",
   "execution_count": 19,
   "metadata": {},
   "outputs": [
    {
     "data": {
      "text/plain": [
       "2.466666666666667"
      ]
     },
     "execution_count": 19,
     "metadata": {},
     "output_type": "execute_result"
    }
   ],
   "source": [
    "3*14/30+2*16/30"
   ]
  },
  {
   "cell_type": "code",
   "execution_count": 20,
   "metadata": {},
   "outputs": [
    {
     "data": {
      "text/plain": [
       "Counter({(0, 2, 4): 4675, (0, 3): 1654, (1, 3): 2046, (1, 4): 1625})"
      ]
     },
     "execution_count": 20,
     "metadata": {},
     "output_type": "execute_result"
    }
   ],
   "source": [
    "from collections import Counter\n",
    "\n",
    "Counter(tuple(simulate(5)) for _ in range(10000))"
   ]
  },
  {
   "cell_type": "markdown",
   "metadata": {},
   "source": [
    "The results match.  About 46.7% of the time 3 seats are occupied and the remaining time 2 seats are occupied."
   ]
  },
  {
   "cell_type": "markdown",
   "metadata": {},
   "source": [
    "Let's run the simulation for different seat sizes and see the pattern."
   ]
  },
  {
   "cell_type": "code",
   "execution_count": 21,
   "metadata": {},
   "outputs": [
    {
     "name": "stdout",
     "output_type": "stream",
     "text": [
      "   n   simulate\n",
      "  10   0.4628\n",
      "  25   0.4442\n",
      "  50   0.4385\n",
      " 100   0.4353\n",
      " 200   0.4337\n",
      " 400   0.4330\n",
      " 800   0.4326\n"
     ]
    }
   ],
   "source": [
    "print('   n   simulate')\n",
    "for n in (10, 25, 50, 100, 200, 400, 800):\n",
    "    print('{:4d}   {:.4f}'\n",
    "          .format(n, simulated_density(n)))"
   ]
  },
  {
   "cell_type": "markdown",
   "metadata": {},
   "source": [
    "We are approaching 0.432 for the density via our simulation results."
   ]
  },
  {
   "cell_type": "markdown",
   "metadata": {},
   "source": [
    "## Recursion "
   ]
  },
  {
   "cell_type": "markdown",
   "metadata": {},
   "source": [
    "#### Consider *N* = 5 Seats\n",
    "\n",
    "With *N* = 5 seats, there are 5 equiprobable choices for the first cadet:\n",
    "\n",
    "     Choice 0: 10...\n",
    "     Choice 1: 010..\n",
    "     Choice 2: .010.\n",
    "     Choice 3: ..010\n",
    "     Choice 4: ...01\n",
    "\n",
    "     \n",
    "Now we'll add something new: the lengths of consecutive acceptable seats to the left and right of the chosen seat:\n",
    "\n",
    "     Choice 0: 10... lengths = (0, 3)\n",
    "     Choice 1: 010.. lengths = (0, 2)\n",
    "     Choice 2: .010. lengths = (1, 1) \n",
    "     Choice 3: ..010 lengths = (2, 0) \n",
    "     Choice 4: ...01 lengths = (3, 0) "
   ]
  },
  {
   "cell_type": "markdown",
   "metadata": {},
   "source": [
    "#### Recursion \n",
    "\n",
    "From the example above, we see that after the first student is seated, we have two new smaller seating problems. We can use the idea of recursion to develop a function to help some this problem. The recursive formula will be a function of the available seats."
   ]
  },
  {
   "cell_type": "markdown",
   "metadata": {},
   "source": [
    "#### Defining `seated(n)`\n",
    "\n",
    "This is Peter's idea and code for the first recursion.\n",
    "\n",
    "We will define `seated(n)` to be the expected number of occupied seats in a row of `n` seats. So:\n",
    "\n",
    "     Choice 0: 10... lengths = (0, 3); seated = seated(0) + 1 + seated(3)\n",
    "     Choice 1: 010.. lenghts = (0, 2); seated = seated(0) + 1 + seated(2)\n",
    "     Choice 2: .010. lengths = (1, 1); seated = seated(1) + 1 + seated(1)\n",
    "     Choice 3: ..010 lengths = (2, 0); seated = seated(2) + 1 + seated(0)\n",
    "     Choice 4: ...01 lengths = (3, 0); seated = seated(3) + 1 + seated(0)\n",
    "        \n",
    "So we can say that `seated(n)` is:\n",
    "\n",
    "- 0 when `n` is 0 (because no seats means no cadets),\n",
    "- 1 when `n` is 1 (because one isolated acceptable seat has one cadet),\n",
    "- else the mean, over the `n` choices for the first occupied seat,\n",
    "of the sum of that seat plus the occupancy lengths of the seats to the left and right.\n",
    "\n",
    "We can implement that with a set of functions."
   ]
  },
  {
   "cell_type": "code",
   "execution_count": 22,
   "metadata": {},
   "outputs": [],
   "source": [
    "def lengths(n):\n",
    "    \"\"\"A list\n",
    "    of tuples of the form [(L,R), ...] where the i-th tuple contains the lengths of acceptable seats to\n",
    "    the left and right of sear i.\"\"\"\n",
    "    return [(max(0,i-1),max(0,n-i-2))\n",
    "           for i in range(n)]"
   ]
  },
  {
   "cell_type": "code",
   "execution_count": 23,
   "metadata": {},
   "outputs": [
    {
     "data": {
      "text/plain": [
       "[(0, 3), (0, 2), (1, 1), (2, 0), (3, 0)]"
      ]
     },
     "execution_count": 23,
     "metadata": {},
     "output_type": "execute_result"
    }
   ],
   "source": [
    "# Test code\n",
    "lengths(5)"
   ]
  },
  {
   "cell_type": "code",
   "execution_count": 24,
   "metadata": {},
   "outputs": [],
   "source": [
    "def seated(n):\n",
    "    \"The expected occupancy for a row of n seats\"\n",
    "    return (0 if n == 0 else\n",
    "            1 if n == 1 else\n",
    "            mean(seated(L) + 1 + seated(R)\n",
    "                 for (L, R) in lengths(n)))"
   ]
  },
  {
   "cell_type": "code",
   "execution_count": 25,
   "metadata": {},
   "outputs": [
    {
     "data": {
      "text/plain": [
       "2.466666666666667"
      ]
     },
     "execution_count": 25,
     "metadata": {},
     "output_type": "execute_result"
    }
   ],
   "source": [
    "seated(5)"
   ]
  },
  {
   "cell_type": "markdown",
   "metadata": {},
   "source": [
    "Now define a function to find density."
   ]
  },
  {
   "cell_type": "code",
   "execution_count": 26,
   "metadata": {},
   "outputs": [],
   "source": [
    "def density(n): return seated(n) / n"
   ]
  },
  {
   "cell_type": "markdown",
   "metadata": {},
   "source": [
    "Let's check that `seated(n)` is what we computed up to 5 and then for other small values, up to 7:"
   ]
  },
  {
   "cell_type": "code",
   "execution_count": 27,
   "metadata": {},
   "outputs": [
    {
     "data": {
      "text/plain": [
       "{0: 0,\n",
       " 1: 1,\n",
       " 2: 1,\n",
       " 3: 1.6666666666666667,\n",
       " 4: 2,\n",
       " 5: 2.466666666666667,\n",
       " 6: 2.888888888888889,\n",
       " 7: 3.323809523809524,\n",
       " 8: 3.7555555555555555,\n",
       " 9: 4.188007054673721}"
      ]
     },
     "execution_count": 27,
     "metadata": {},
     "output_type": "execute_result"
    }
   ],
   "source": [
    "{n: seated(n) for n in range(10)}"
   ]
  },
  {
   "cell_type": "markdown",
   "metadata": {},
   "source": [
    "That seems reasonable, although we have not proved the values above 4 are ccorrect."
   ]
  },
  {
   "cell_type": "markdown",
   "metadata": {},
   "source": [
    "#### Dynamic Programming Version of `seated`\n",
    "\n",
    "Peter introduces this idea.  \n",
    "\n",
    "Since this is a recursion problem, the computation of `seated(n)` makes multiple calls to `seated(n-1), seated(n-2),` etc. To avoid re-computing the same calls over and over, we will modify `seated` to save previous results using [dynamic programming](https://en.wikipedia.org/wiki/Dynamic_programming). We could implement that in one line with the decorator [`@functools.lru_cache`](https://docs.python.org/3/library/functools.html#functools.lru_cache), but then we would have to worry about the recursion limit. Instead we will explicitly manage a list, `cache`, such that `cache[n]` holds `seated(n)`:"
   ]
  },
  {
   "cell_type": "code",
   "execution_count": 28,
   "metadata": {},
   "outputs": [],
   "source": [
    "def seated(n, cache=[0, 1]):\n",
    "    \"The expected occupancy for a row of n seats.\"\n",
    "    print('cache',cache)\n",
    "    # Store seated(i) in cache[i] for all as-yet-uncomputed values of i up to n:\n",
    "    for i in range(len(cache), n+1):\n",
    "        print('i',i,'cache',cache)\n",
    "        cache.append(mean(cache[L] + 1 + cache[R]\n",
    "                          for (L, R) in lengths(i)))\n",
    "    return cache[n]"
   ]
  },
  {
   "cell_type": "markdown",
   "metadata": {},
   "source": [
    "Let's see what this code is doing."
   ]
  },
  {
   "cell_type": "code",
   "execution_count": 29,
   "metadata": {},
   "outputs": [
    {
     "name": "stdout",
     "output_type": "stream",
     "text": [
      "cache [0, 1]\n",
      "i 2 cache [0, 1]\n",
      "i 3 cache [0, 1, 1]\n",
      "i 4 cache [0, 1, 1, 1.6666666666666667]\n",
      "i 5 cache [0, 1, 1, 1.6666666666666667, 2]\n"
     ]
    },
    {
     "data": {
      "text/plain": [
       "2.466666666666667"
      ]
     },
     "execution_count": 29,
     "metadata": {},
     "output_type": "execute_result"
    }
   ],
   "source": [
    "seated(5)"
   ]
  },
  {
   "cell_type": "code",
   "execution_count": 30,
   "metadata": {},
   "outputs": [
    {
     "name": "stdout",
     "output_type": "stream",
     "text": [
      "cache [0, 1, 1, 1.6666666666666667, 2, 2.466666666666667]\n"
     ]
    },
    {
     "data": {
      "text/plain": [
       "2.466666666666667"
      ]
     },
     "execution_count": 30,
     "metadata": {},
     "output_type": "execute_result"
    }
   ],
   "source": [
    "seated(5)"
   ]
  },
  {
   "cell_type": "markdown",
   "metadata": {},
   "source": [
    "Let's remove the print statements and make sure this new version gets the same results:"
   ]
  },
  {
   "cell_type": "code",
   "execution_count": 31,
   "metadata": {},
   "outputs": [],
   "source": [
    "def seated(n, cache=[0, 1]):\n",
    "    \"The expected occupancy for a row of n seats.\"\n",
    "    # Store seated(i) in cache[i] for all as-yet-uncomputed values of i up to n:\n",
    "    for i in range(len(cache), n+1):\n",
    "        cache.append(mean(cache[L] + 1 + cache[R]\n",
    "                          for (L, R) in lengths(i)))\n",
    "    return cache[n]"
   ]
  },
  {
   "cell_type": "code",
   "execution_count": 32,
   "metadata": {},
   "outputs": [
    {
     "data": {
      "text/plain": [
       "True"
      ]
     },
     "execution_count": 32,
     "metadata": {},
     "output_type": "execute_result"
    }
   ],
   "source": [
    "seated(4) == 2"
   ]
  },
  {
   "cell_type": "markdown",
   "metadata": {},
   "source": [
    "Let's make sure the caching makes computation pretty fast the first time, and *very* fast the second time:"
   ]
  },
  {
   "cell_type": "code",
   "execution_count": 33,
   "metadata": {},
   "outputs": [
    {
     "name": "stdout",
     "output_type": "stream",
     "text": [
      "Wall time: 3.36 s\n"
     ]
    },
    {
     "data": {
      "text/plain": [
       "864.9617138385324"
      ]
     },
     "execution_count": 33,
     "metadata": {},
     "output_type": "execute_result"
    }
   ],
   "source": [
    "%time seated(2000)"
   ]
  },
  {
   "cell_type": "code",
   "execution_count": 34,
   "metadata": {},
   "outputs": [
    {
     "name": "stdout",
     "output_type": "stream",
     "text": [
      "Wall time: 0 ns\n"
     ]
    },
    {
     "data": {
      "text/plain": [
       "864.9617138385324"
      ]
     },
     "execution_count": 34,
     "metadata": {},
     "output_type": "execute_result"
    }
   ],
   "source": [
    "%time seated(2000)"
   ]
  },
  {
   "cell_type": "code",
   "execution_count": 35,
   "metadata": {},
   "outputs": [
    {
     "name": "stdout",
     "output_type": "stream",
     "text": [
      "Wall time: 10.1 s\n"
     ]
    },
    {
     "data": {
      "text/plain": [
       "1729.6264306019198"
      ]
     },
     "execution_count": 35,
     "metadata": {},
     "output_type": "execute_result"
    }
   ],
   "source": [
    "%time seated(4000)"
   ]
  },
  {
   "cell_type": "code",
   "execution_count": 36,
   "metadata": {},
   "outputs": [
    {
     "name": "stdout",
     "output_type": "stream",
     "text": [
      "Wall time: 8.99 ms\n"
     ]
    },
    {
     "data": {
      "text/plain": [
       "1730.0587629603015"
      ]
     },
     "execution_count": 36,
     "metadata": {},
     "output_type": "execute_result"
    }
   ],
   "source": [
    "%time seated(4001)"
   ]
  },
  {
   "cell_type": "markdown",
   "metadata": {},
   "source": [
    "#### Another Recursion  \n",
    "\n",
    "Another recursion can be developed from the expected number of occupied seats.  \n",
    "\n",
    "We know the expected number of occupied seats when $N=1$ is 1 and for $N=2$ it is 1/2.  \n",
    "\n",
    "For $N=3$ when a cadet selects one of the end seats 2/3 of the time which leaves just one available seat. The other time the cadet picks the middle seats which leaves no available seats.  Let $E(n)$ stand for the expected number of occupied seats we have $E(3) = 1 + {2 \\over 3} E(1)$. The one is in there because an initial seat has to be taken.  \n",
    "\n",
    "For $N=4$, we have a cadet taking one of the end seats, 2/4, yes we leave it in this form for a reason. When they select an end seat they have 2 available seats left. Otherwise, the cadet takes a middle seat 2/4 of the time which only leaves one seat. Thus $E(4) = 1 + {2 \\over 4}E(2) + {2 \\over 4} E(1)$.  \n",
    "\n",
    "Finally for $N=5$ we have an end seat being taken 2/5 of the time, leaving 3 available seats. One of the second from the end 2/5 of the time with 2 available seats, and the middle seat 1/5 of the time but with 4 availble seats but broken into 2 on each side. This last statement is key. Thus, $E(5) = 1+ {2 \\over 5} E(3) + {2 \\over 5} E(2) + 2*{1\\over 5} E(1)$.\n",
    "\n",
    "The odd case is important because of the middle seat. Let's go through the case $N=7$ and then write the recursion. The end seats are taken 2/7 of the time with 5 available seats. The second from the end seats are taken 2/7 of the time with 4 available seats. The thirs in are taken 2/7 of the time with 4 available seats broken in 1 and 3. The middle seat is taken 1/7 of the time with 4 available seats broken into 2 on each side. Thus we have $E(7) = 1+ {2 \\over 7} E(5) + {2 \\over 7} E(4) + {2 \\over 7} E(3) + {2 \\over 7} E(1) + 2*{1\\over 7} E(2)$.  \n",
    "\n",
    "The recursion is $E(n) = 1+ {2 \\over n} \\sum_{i=1}^{n-2}E(i)$, with $E(1) = 1$ and $E(2) = 1$."
   ]
  },
  {
   "cell_type": "code",
   "execution_count": 37,
   "metadata": {},
   "outputs": [
    {
     "data": {
      "text/plain": [
       "[0]"
      ]
     },
     "execution_count": 37,
     "metadata": {},
     "output_type": "execute_result"
    }
   ],
   "source": [
    "list(range(1))"
   ]
  },
  {
   "cell_type": "code",
   "execution_count": 38,
   "metadata": {},
   "outputs": [],
   "source": [
    "def expected(n, cache2=[0, 1, 1]):\n",
    "    \"The expected occupancy for a row of n seats.\"\n",
    "    # Store expected(i) in cache[i] for all as-yet-uncomputed values of i up to n:\n",
    "    for i in range(len(cache2), n+1):\n",
    "#        print(i)\n",
    "        cache2.append(1. + 2/(i)*sum(cache2[j]\n",
    "                          for j in range(i-1)))\n",
    "#    print(cache2)\n",
    "    return cache2[n]"
   ]
  },
  {
   "cell_type": "code",
   "execution_count": 39,
   "metadata": {},
   "outputs": [
    {
     "data": {
      "text/plain": [
       "1.6666666666666665"
      ]
     },
     "execution_count": 39,
     "metadata": {},
     "output_type": "execute_result"
    }
   ],
   "source": [
    "expected(3)"
   ]
  },
  {
   "cell_type": "code",
   "execution_count": 40,
   "metadata": {},
   "outputs": [
    {
     "data": {
      "text/plain": [
       "2.0"
      ]
     },
     "execution_count": 40,
     "metadata": {},
     "output_type": "execute_result"
    }
   ],
   "source": [
    "expected(4)"
   ]
  },
  {
   "cell_type": "code",
   "execution_count": 41,
   "metadata": {},
   "outputs": [
    {
     "data": {
      "text/plain": [
       "{0: 0,\n",
       " 1: 1,\n",
       " 2: 1,\n",
       " 3: 1.6666666666666665,\n",
       " 4: 2.0,\n",
       " 5: 2.466666666666667,\n",
       " 6: 2.8888888888888884,\n",
       " 7: 3.3238095238095235,\n",
       " 8: 3.7555555555555555,\n",
       " 9: 4.1880070546737205}"
      ]
     },
     "execution_count": 41,
     "metadata": {},
     "output_type": "execute_result"
    }
   ],
   "source": [
    "{n: expected(n) for n in range(10)}"
   ]
  },
  {
   "cell_type": "code",
   "execution_count": 42,
   "metadata": {},
   "outputs": [
    {
     "data": {
      "text/plain": [
       "864.961713838536"
      ]
     },
     "execution_count": 42,
     "metadata": {},
     "output_type": "execute_result"
    }
   ],
   "source": [
    "expected(2000)"
   ]
  },
  {
   "cell_type": "code",
   "execution_count": 43,
   "metadata": {},
   "outputs": [
    {
     "name": "stdout",
     "output_type": "stream",
     "text": [
      "Wall time: 399 ms\n"
     ]
    },
    {
     "data": {
      "text/plain": [
       "1729.6264306019254"
      ]
     },
     "execution_count": 43,
     "metadata": {},
     "output_type": "execute_result"
    }
   ],
   "source": [
    "%time expected(4000)"
   ]
  },
  {
   "cell_type": "markdown",
   "metadata": {},
   "source": [
    "This recursion is much faster! But that repeated summation is ineffecient. Let's think about the next term in the sequence $E(n+1)$. From $E(n)$ we have the sum up to $n-2$ and it is $\\sum_{i=1}^{n-2}E(i) = {n \\over 2}( E(n) - 1)$. Therefore, $E(n+1) = [{n \\over 2}( E(n) - 1) + E(n-1)]*{2 \\over n+1} +1 = { nE(n) +2E(n-1) +1 \\over n+1}$.  This should make our code much faster."
   ]
  },
  {
   "cell_type": "code",
   "execution_count": 44,
   "metadata": {},
   "outputs": [],
   "source": [
    "def expected(n, cache3=[0, 1, 1]):\n",
    "    \"The expected occupancy for a row of n seats.\"\n",
    "    # Store expected(i) in cache[i] for all as-yet-uncomputed values of i up to n:\n",
    "    for i in range(len(cache3), n+1):\n",
    "#        print(i)\n",
    "        cache3.append(((i-1)*cache3[i-1]+2*cache3[i-2]+1.)/i)\n",
    "#    print(cache3)\n",
    "    return cache3[n]"
   ]
  },
  {
   "cell_type": "code",
   "execution_count": 45,
   "metadata": {},
   "outputs": [
    {
     "data": {
      "text/plain": [
       "1.6666666666666667"
      ]
     },
     "execution_count": 45,
     "metadata": {},
     "output_type": "execute_result"
    }
   ],
   "source": [
    "expected(3)"
   ]
  },
  {
   "cell_type": "code",
   "execution_count": 46,
   "metadata": {},
   "outputs": [
    {
     "data": {
      "text/plain": [
       "{0: 0,\n",
       " 1: 1,\n",
       " 2: 1,\n",
       " 3: 1.6666666666666667,\n",
       " 4: 2.0,\n",
       " 5: 2.466666666666667,\n",
       " 6: 2.8888888888888893,\n",
       " 7: 3.323809523809524,\n",
       " 8: 3.755555555555556,\n",
       " 9: 4.188007054673722}"
      ]
     },
     "execution_count": 46,
     "metadata": {},
     "output_type": "execute_result"
    }
   ],
   "source": [
    "{n: expected(n) for n in range(10)}"
   ]
  },
  {
   "cell_type": "code",
   "execution_count": 47,
   "metadata": {},
   "outputs": [
    {
     "data": {
      "text/plain": [
       "864.9617138385328"
      ]
     },
     "execution_count": 47,
     "metadata": {},
     "output_type": "execute_result"
    }
   ],
   "source": [
    "expected(2000)"
   ]
  },
  {
   "cell_type": "code",
   "execution_count": 48,
   "metadata": {},
   "outputs": [
    {
     "name": "stdout",
     "output_type": "stream",
     "text": [
      "Wall time: 0 ns\n"
     ]
    },
    {
     "data": {
      "text/plain": [
       "1729.6264306019182"
      ]
     },
     "execution_count": 48,
     "metadata": {},
     "output_type": "execute_result"
    }
   ],
   "source": [
    "%time expected(4000)"
   ]
  },
  {
   "cell_type": "markdown",
   "metadata": {},
   "source": [
    "That is fast."
   ]
  },
  {
   "cell_type": "code",
   "execution_count": 49,
   "metadata": {},
   "outputs": [
    {
     "data": {
      "text/plain": [
       "4323.62058089206"
      ]
     },
     "execution_count": 49,
     "metadata": {},
     "output_type": "execute_result"
    }
   ],
   "source": [
    "expected(10000)"
   ]
  },
  {
   "cell_type": "code",
   "execution_count": 50,
   "metadata": {},
   "outputs": [
    {
     "data": {
      "text/plain": [
       "43233.53283524293"
      ]
     },
     "execution_count": 50,
     "metadata": {},
     "output_type": "execute_result"
    }
   ],
   "source": [
    "expected(100000)"
   ]
  },
  {
   "cell_type": "markdown",
   "metadata": {},
   "source": [
    "### Plotting `density(n)`\n",
    "\n",
    "To get a feel for the limit of `density(n)`, start by drawing a plot over some small values of `n`:"
   ]
  },
  {
   "cell_type": "code",
   "execution_count": 51,
   "metadata": {},
   "outputs": [],
   "source": [
    "# Use the faster recursion\n",
    "def density(n): return expected(n) / n"
   ]
  },
  {
   "cell_type": "code",
   "execution_count": 52,
   "metadata": {},
   "outputs": [],
   "source": [
    "def plot_density(ns):\n",
    "    \"Plot density(n) for each n in the list of numbers ns.\"\n",
    "    plt.xlabel('n seats'); plt.ylabel('density(n)')\n",
    "    plt.plot(ns, [density(n) for n in ns], 's-')\n",
    "    return density(ns[-1])"
   ]
  },
  {
   "cell_type": "code",
   "execution_count": 53,
   "metadata": {},
   "outputs": [
    {
     "data": {
      "text/plain": [
       "0.4353323288377052"
      ]
     },
     "execution_count": 53,
     "metadata": {},
     "output_type": "execute_result"
    },
    {
     "data": {
      "image/png": "[encoded data removed]",
      "text/plain": [
       "<matplotlib.figure.Figure at 0x287e2877eb8>"
      ]
     },
     "metadata": {},
     "output_type": "display_data"
    }
   ],
   "source": [
    "plot_density(range(1, 100))"
   ]
  },
  {
   "cell_type": "markdown",
   "metadata": {},
   "source": [
    "There is something funny going on with the first few values of `n`. Let's separately look at the first few:"
   ]
  },
  {
   "cell_type": "code",
   "execution_count": 54,
   "metadata": {},
   "outputs": [
    {
     "data": {
      "text/plain": [
       "0.46203174603174607"
      ]
     },
     "execution_count": 54,
     "metadata": {},
     "output_type": "execute_result"
    },
    {
     "data": {
      "image/png": "[encoded data removed]",
      "text/plain": [
       "<matplotlib.figure.Figure at 0x287e27e75f8>"
      ]
     },
     "metadata": {},
     "output_type": "display_data"
    }
   ],
   "source": [
    "plot_density(range(1, 11))"
   ]
  },
  {
   "cell_type": "markdown",
   "metadata": {},
   "source": [
    "And at a wider range:"
   ]
  },
  {
   "cell_type": "code",
   "execution_count": 55,
   "metadata": {},
   "outputs": [
    {
     "data": {
      "text/plain": [
       "0.43240754751464144"
      ]
     },
     "execution_count": 55,
     "metadata": {},
     "output_type": "execute_result"
    },
    {
     "data": {
      "image/png": "[encoded data removed]",
      "text/plain": [
       "<matplotlib.figure.Figure at 0x287e26d46a0>"
      ]
     },
     "metadata": {},
     "output_type": "display_data"
    }
   ],
   "source": [
    "plot_density(range(100, 4000, 50))"
   ]
  },
  {
   "cell_type": "code",
   "execution_count": 56,
   "metadata": {},
   "outputs": [
    {
     "data": {
      "text/plain": [
       "0.4324066262174385"
      ]
     },
     "execution_count": 56,
     "metadata": {},
     "output_type": "execute_result"
    },
    {
     "data": {
      "image/png": "[encoded data removed]",
      "text/plain": [
       "<matplotlib.figure.Figure at 0x287e27155f8>"
      ]
     },
     "metadata": {},
     "output_type": "display_data"
    }
   ],
   "source": [
    "plot_density(range(3990, 4000))"
   ]
  },
  {
   "cell_type": "markdown",
   "metadata": {},
   "source": [
    "The density is going down, and approaching a limit in monotonic manner. "
   ]
  },
  {
   "cell_type": "code",
   "execution_count": 57,
   "metadata": {},
   "outputs": [
    {
     "data": {
      "text/plain": [
       "0.432362058089206"
      ]
     },
     "execution_count": 57,
     "metadata": {},
     "output_type": "execute_result"
    }
   ],
   "source": [
    "density(10000)"
   ]
  },
  {
   "cell_type": "markdown",
   "metadata": {},
   "source": [
    "# Verification by Test\n",
    "\n",
    "Peter's idea to check our code by running a test suite:"
   ]
  },
  {
   "cell_type": "code",
   "execution_count": 77,
   "metadata": {},
   "outputs": [
    {
     "data": {
      "text/plain": [
       "'ok'"
      ]
     },
     "execution_count": 77,
     "metadata": {},
     "output_type": "execute_result"
    }
   ],
   "source": [
    "def test():\n",
    "    assert expected(0) == 0\n",
    "    assert expected(1) == expected(2) == 1\n",
    "    assert expected(3) == 5/3\n",
    "    assert density(3) == expected(3) / 3\n",
    "    assert density(100) == expected(100) / 100\n",
    "    assert lengths(3) == [(0, 1), (0, 0), (1, 0)]\n",
    "    assert lengths(7) == [(0, 5), (0, 4), (1, 3), (2, 2), (3, 1), (4, 0), (5, 0)]\n",
    "    for n in (3, 7, 10, 20, 100, 101, 200, 201):\n",
    "        for repeat in range(500):\n",
    "            assert_valid(simulate(n), n)         \n",
    "    return 'ok'\n",
    "\n",
    "def assert_valid(occupied, n):\n",
    "    \"\"\"Assert that, in this collection of occupied seats, no seat is adjacent to an\n",
    "    occupied seat, and every unoccupied position is adjacent to an occupied seat.\"\"\"\n",
    "    occupied = set(occupied) # coerce to set\n",
    "    for seat in range(n):\n",
    "        if seat in occupied:\n",
    "            assert not ((seat - 1) in occupied or (seat + 1) in occupied)\n",
    "        else:\n",
    "            assert      (seat - 1) in occupied or (seat + 1) in occupied\n",
    "\n",
    "test()"
   ]
  },
  {
   "cell_type": "markdown",
   "metadata": {},
   "source": [
    "### lim <sub>n &rarr; &infin;</sub> density(n)\n",
    "\n",
    "The problem statement asks us to determine the limit of `density(n)` as `n` goes to infinity. We have an idea from the plot and simulation that the answer is near 0.432. We now want to add some mathematics. The following is not a proof but a confirmation of the limit we found above but fitting a curve to the data.  \n",
    "\n",
    "The insights come from Peter experimenting with ratios and differences. Our solution is slightly different from Peter's original."
   ]
  },
  {
   "cell_type": "markdown",
   "metadata": {},
   "source": [
    "#### Ratios"
   ]
  },
  {
   "cell_type": "code",
   "execution_count": 58,
   "metadata": {},
   "outputs": [],
   "source": [
    "def ratio(n,m): return density(m)/density(n)"
   ]
  },
  {
   "cell_type": "code",
   "execution_count": 59,
   "metadata": {},
   "outputs": [
    {
     "data": {
      "text/plain": [
       "1.0003433644176303"
      ]
     },
     "execution_count": 59,
     "metadata": {},
     "output_type": "execute_result"
    }
   ],
   "source": [
    "ratio(2000,1000)"
   ]
  },
  {
   "cell_type": "code",
   "execution_count": 60,
   "metadata": {},
   "outputs": [
    {
     "data": {
      "text/plain": [
       "1.0001144679072804"
      ]
     },
     "execution_count": 60,
     "metadata": {},
     "output_type": "execute_result"
    }
   ],
   "source": [
    "ratio(3000,2000)"
   ]
  },
  {
   "cell_type": "code",
   "execution_count": 61,
   "metadata": {},
   "outputs": [
    {
     "data": {
      "image/png": "[encoded data removed]",
      "text/plain": [
       "<matplotlib.figure.Figure at 0x287e2ae4da0>"
      ]
     },
     "metadata": {},
     "output_type": "display_data"
    }
   ],
   "source": [
    "xs=range(1,4000)\n",
    "lag = 1000\n",
    "plt.xlabel('n seats'); plt.ylabel('ratio of densities(n)')\n",
    "plt.plot(xs, [ratio(n,n+lag) for n in xs], 's-');"
   ]
  },
  {
   "cell_type": "code",
   "execution_count": 62,
   "metadata": {},
   "outputs": [
    {
     "data": {
      "image/png": "[encoded data removed]",
      "text/plain": [
       "<matplotlib.figure.Figure at 0x287e2af2be0>"
      ]
     },
     "metadata": {},
     "output_type": "display_data"
    }
   ],
   "source": [
    "xs=range(1,4000)\n",
    "lag = 2000\n",
    "plt.xlabel('n seats'); plt.ylabel('ratio of densities(n)')\n",
    "plt.plot(xs, [ratio(n,n+lag) for n in xs], 's-');"
   ]
  },
  {
   "cell_type": "markdown",
   "metadata": {},
   "source": [
    "This looks like the ratio just approaches 1. Not much here other than it looks like it is converging."
   ]
  },
  {
   "cell_type": "markdown",
   "metadata": {},
   "source": [
    "#### Differences"
   ]
  },
  {
   "cell_type": "code",
   "execution_count": 63,
   "metadata": {},
   "outputs": [
    {
     "data": {
      "text/plain": [
       "0.014849533892798417"
      ]
     },
     "execution_count": 63,
     "metadata": {},
     "output_type": "execute_result"
    }
   ],
   "source": [
    "def diff(n, m): return density(n) - density(m)\n",
    "\n",
    "diff(10, 20)"
   ]
  },
  {
   "cell_type": "code",
   "execution_count": 64,
   "metadata": {},
   "outputs": [
    {
     "data": {
      "image/png": "[encoded data removed]",
      "text/plain": [
       "<matplotlib.figure.Figure at 0x287e2b61240>"
      ]
     },
     "metadata": {},
     "output_type": "display_data"
    }
   ],
   "source": [
    "xs=range(1,4000)\n",
    "lag = 20\n",
    "plt.xlabel('n seats'); plt.ylabel('Differences of densities(n)')\n",
    "plt.plot(xs, [diff(n,n+lag) for n in xs], 's-');"
   ]
  },
  {
   "cell_type": "code",
   "execution_count": 65,
   "metadata": {},
   "outputs": [
    {
     "data": {
      "image/png": "[encoded data removed]",
      "text/plain": [
       "<matplotlib.figure.Figure at 0x287e3bd2ba8>"
      ]
     },
     "metadata": {},
     "output_type": "display_data"
    }
   ],
   "source": [
    "xs=range(1,4000)\n",
    "lag = 200\n",
    "plt.xlabel('n seats'); plt.ylabel('Differences of densities(n)')\n",
    "plt.plot(xs, [diff(n,n+lag) for n in xs], 's-');"
   ]
  },
  {
   "cell_type": "markdown",
   "metadata": {},
   "source": [
    "Again, nothing here. Unless we zoom in."
   ]
  },
  {
   "cell_type": "code",
   "execution_count": 66,
   "metadata": {},
   "outputs": [
    {
     "data": {
      "image/png": "[encoded data removed]",
      "text/plain": [
       "<matplotlib.figure.Figure at 0x287e2bd6438>"
      ]
     },
     "metadata": {},
     "output_type": "display_data"
    }
   ],
   "source": [
    "xs=range(20,120)\n",
    "lag = 20\n",
    "plt.xlabel('n seats'); plt.ylabel('Differences of densities(n)')\n",
    "plt.plot(xs, [diff(n,n+lag) for n in xs], 's-');"
   ]
  },
  {
   "cell_type": "code",
   "execution_count": 67,
   "metadata": {},
   "outputs": [
    {
     "data": {
      "image/png": "[encoded data removed]",
      "text/plain": [
       "<matplotlib.figure.Figure at 0x287e3bd7160>"
      ]
     },
     "metadata": {},
     "output_type": "display_data"
    }
   ],
   "source": [
    "xs=range(40,120)\n",
    "lag = 20\n",
    "plt.xlabel('n seats'); plt.ylabel('Differences of densities(n)')\n",
    "plt.plot(xs, [diff(n,n+lag) for n in xs], 's-');"
   ]
  },
  {
   "cell_type": "markdown",
   "metadata": {},
   "source": [
    "This is not helping. This function looks similar to the original density function. Maybe we can go back to it and gain some insight."
   ]
  },
  {
   "cell_type": "markdown",
   "metadata": {},
   "source": [
    "#### Idea\n",
    "The density function looks like it might follow a power function of the form $Y = b+ c*X^a$. Where $b$ is the long-term behavior of the density function, what we are looking for, $a$ is negative since the curve is decaying, and $c$ is a scale parameter. Let's see if we can fit a function to the data."
   ]
  },
  {
   "cell_type": "code",
   "execution_count": 68,
   "metadata": {},
   "outputs": [],
   "source": [
    "from scipy.optimize import curve_fit\n",
    "import numpy as np"
   ]
  },
  {
   "cell_type": "code",
   "execution_count": 69,
   "metadata": {},
   "outputs": [
    {
     "data": {
      "text/plain": [
       "array([100, 110, 120, 130])"
      ]
     },
     "execution_count": 69,
     "metadata": {},
     "output_type": "execute_result"
    }
   ],
   "source": [
    "Xs = np.arange(100, 5001, 10)\n",
    "Xs[:4]"
   ]
  },
  {
   "cell_type": "code",
   "execution_count": 70,
   "metadata": {},
   "outputs": [
    {
     "ename": "RuntimeError",
     "evalue": "Optimal parameters not found: Number of calls to function has reached maxfev = 800.",
     "output_type": "error",
     "traceback": [
      "\u001b[1;31m---------------------------------------------------------------------------\u001b[0m",
      "\u001b[1;31mRuntimeError\u001b[0m                              Traceback (most recent call last)",
      "\u001b[1;32m<ipython-input-70-12165b59e240>\u001b[0m in \u001b[0;36m<module>\u001b[1;34m()\u001b[0m\n\u001b[0;32m      1\u001b[0m \u001b[1;32mdef\u001b[0m \u001b[0mf\u001b[0m\u001b[1;33m(\u001b[0m\u001b[0mX\u001b[0m\u001b[1;33m,\u001b[0m\u001b[0mA\u001b[0m\u001b[1;33m,\u001b[0m\u001b[0mB\u001b[0m\u001b[1;33m,\u001b[0m\u001b[0mC\u001b[0m\u001b[1;33m)\u001b[0m\u001b[1;33m:\u001b[0m \u001b[1;32mreturn\u001b[0m \u001b[0mB\u001b[0m\u001b[1;33m+\u001b[0m\u001b[0mC\u001b[0m\u001b[1;33m*\u001b[0m\u001b[1;33m(\u001b[0m\u001b[0mX\u001b[0m\u001b[1;33m**\u001b[0m\u001b[0mA\u001b[0m\u001b[1;33m)\u001b[0m\u001b[1;33m\u001b[0m\u001b[0m\n\u001b[0;32m      2\u001b[0m \u001b[1;33m\u001b[0m\u001b[0m\n\u001b[1;32m----> 3\u001b[1;33m \u001b[1;33m(\u001b[0m\u001b[1;33m(\u001b[0m\u001b[0mA\u001b[0m\u001b[1;33m,\u001b[0m\u001b[0mB\u001b[0m\u001b[1;33m,\u001b[0m\u001b[0mC\u001b[0m\u001b[1;33m)\u001b[0m\u001b[1;33m,\u001b[0m \u001b[0mcovariance\u001b[0m\u001b[1;33m)\u001b[0m \u001b[1;33m=\u001b[0m \u001b[0mcurve_fit\u001b[0m\u001b[1;33m(\u001b[0m\u001b[0mf\u001b[0m\u001b[1;33m=\u001b[0m\u001b[0mf\u001b[0m\u001b[1;33m,\u001b[0m \u001b[0mxdata\u001b[0m\u001b[1;33m=\u001b[0m\u001b[0mXs\u001b[0m\u001b[1;33m,\u001b[0m \u001b[0mydata\u001b[0m\u001b[1;33m=\u001b[0m\u001b[1;33m[\u001b[0m\u001b[0mdensity\u001b[0m\u001b[1;33m(\u001b[0m\u001b[0mn\u001b[0m\u001b[1;33m)\u001b[0m \u001b[1;32mfor\u001b[0m \u001b[0mn\u001b[0m \u001b[1;32min\u001b[0m \u001b[0mXs\u001b[0m\u001b[1;33m]\u001b[0m\u001b[1;33m)\u001b[0m\u001b[1;33m\u001b[0m\u001b[0m\n\u001b[0m\u001b[0;32m      4\u001b[0m \u001b[1;33m\u001b[0m\u001b[0m\n\u001b[0;32m      5\u001b[0m \u001b[0mA\u001b[0m\u001b[1;33m,\u001b[0m\u001b[0mB\u001b[0m\u001b[1;33m,\u001b[0m\u001b[0mC\u001b[0m\u001b[1;33m\u001b[0m\u001b[0m\n",
      "\u001b[1;32m~\\AppData\\Local\\Continuum\\anaconda3\\lib\\site-packages\\scipy\\optimize\\minpack.py\u001b[0m in \u001b[0;36mcurve_fit\u001b[1;34m(f, xdata, ydata, p0, sigma, absolute_sigma, check_finite, bounds, method, jac, **kwargs)\u001b[0m\n\u001b[0;32m    744\u001b[0m         \u001b[0mcost\u001b[0m \u001b[1;33m=\u001b[0m \u001b[0mnp\u001b[0m\u001b[1;33m.\u001b[0m\u001b[0msum\u001b[0m\u001b[1;33m(\u001b[0m\u001b[0minfodict\u001b[0m\u001b[1;33m[\u001b[0m\u001b[1;34m'fvec'\u001b[0m\u001b[1;33m]\u001b[0m \u001b[1;33m**\u001b[0m \u001b[1;36m2\u001b[0m\u001b[1;33m)\u001b[0m\u001b[1;33m\u001b[0m\u001b[0m\n\u001b[0;32m    745\u001b[0m         \u001b[1;32mif\u001b[0m \u001b[0mier\u001b[0m \u001b[1;32mnot\u001b[0m \u001b[1;32min\u001b[0m \u001b[1;33m[\u001b[0m\u001b[1;36m1\u001b[0m\u001b[1;33m,\u001b[0m \u001b[1;36m2\u001b[0m\u001b[1;33m,\u001b[0m \u001b[1;36m3\u001b[0m\u001b[1;33m,\u001b[0m \u001b[1;36m4\u001b[0m\u001b[1;33m]\u001b[0m\u001b[1;33m:\u001b[0m\u001b[1;33m\u001b[0m\u001b[0m\n\u001b[1;32m--> 746\u001b[1;33m             \u001b[1;32mraise\u001b[0m \u001b[0mRuntimeError\u001b[0m\u001b[1;33m(\u001b[0m\u001b[1;34m\"Optimal parameters not found: \"\u001b[0m \u001b[1;33m+\u001b[0m \u001b[0merrmsg\u001b[0m\u001b[1;33m)\u001b[0m\u001b[1;33m\u001b[0m\u001b[0m\n\u001b[0m\u001b[0;32m    747\u001b[0m     \u001b[1;32melse\u001b[0m\u001b[1;33m:\u001b[0m\u001b[1;33m\u001b[0m\u001b[0m\n\u001b[0;32m    748\u001b[0m         \u001b[1;31m# Rename maxfev (leastsq) to max_nfev (least_squares), if specified.\u001b[0m\u001b[1;33m\u001b[0m\u001b[1;33m\u001b[0m\u001b[0m\n",
      "\u001b[1;31mRuntimeError\u001b[0m: Optimal parameters not found: Number of calls to function has reached maxfev = 800."
     ]
    }
   ],
   "source": [
    "def f(X,A,B,C): return B+C*(X**A)\n",
    "\n",
    "((A,B,C), covariance) = curve_fit(f=f, xdata=Xs, ydata=[density(n) for n in Xs])\n",
    "\n",
    "A,B,C"
   ]
  },
  {
   "cell_type": "markdown",
   "metadata": {},
   "source": [
    "It is not converging, so we need to help the algorithmn."
   ]
  },
  {
   "cell_type": "markdown",
   "metadata": {},
   "source": [
    "#### Next Idea\n",
    "Let's see if we can get an idea of the size of $A$. It would be nice if $A$ we an integer such as 1 or 2. Let's try those first and see what we find. "
   ]
  },
  {
   "cell_type": "code",
   "execution_count": 78,
   "metadata": {},
   "outputs": [
    {
     "data": {
      "text/plain": [
       "(0.43233235838169337,\n",
       " 0.2969970751454783,\n",
       " array([[ 5.37463468e-34, -2.06500038e-31],\n",
       "        [-2.06500038e-31,  2.55790193e-28]]))"
      ]
     },
     "execution_count": 78,
     "metadata": {},
     "output_type": "execute_result"
    }
   ],
   "source": [
    "def f(X,B,C): return B+C/X\n",
    "\n",
    "((B,C), covariance) = curve_fit(f=f, xdata=Xs, ydata=[density(n) for n in Xs])\n",
    "\n",
    "B,C,covariance"
   ]
  },
  {
   "cell_type": "code",
   "execution_count": 79,
   "metadata": {},
   "outputs": [
    {
     "data": {
      "text/plain": [
       "(0.43249193182450674,\n",
       " 38.16556619468396,\n",
       " array([[ 4.24178017e-11, -1.13182668e-06],\n",
       "        [-1.13182668e-06,  5.38659973e-01]]))"
      ]
     },
     "execution_count": 79,
     "metadata": {},
     "output_type": "execute_result"
    }
   ],
   "source": [
    "def f(X,B,C): return B+C/X**2\n",
    "\n",
    "((B,C), covariance) = curve_fit(f=f, xdata=Xs, ydata=[density(n) for n in Xs])\n",
    "\n",
    "B,C,covariance"
   ]
  },
  {
   "cell_type": "markdown",
   "metadata": {},
   "source": [
    "This looks promising, the function ${1 \\over n}$ has a better fit than ${1 \\over n^2}$ by looking at the variance of our estimates. But maybe it is not an integer. Let's do some algebra to confirm.  \n",
    "\n",
    "Taking the difference remove $B$ from our problem. Taking the ratio will remove $C$. The problem is that I have to do this for 4 different values of $n$. So let's simplify by calling our first value $n$. Then the next value should be a multiple so we will simply double and get $2n$.  When we take the difference we get:\n",
    "\n",
    "$$B+{C \\over n} - B - {C \\over 2n} = C \\left( {1 \\over n} - {1 \\over 2n} \\right)$$\n",
    "\n",
    "For the second set of numbers, we start with $2n$ and go to $3n$ so we get\n",
    "\n",
    "$$B+{C \\over 2n} - B - {C \\over 3n} = C \\left( {1 \\over 2n} - {1 \\over 3n} \\right)$$\n",
    "\n",
    "Now the ratio, when we multiply numerator and denominator by $n$ is\n",
    "\n",
    "$${1 - {1 \\over 2} \\over {1 \\over 2} - {1 \\over 3}} = 3$$"
   ]
  },
  {
   "cell_type": "markdown",
   "metadata": {},
   "source": [
    "Now we will look at the data:"
   ]
  },
  {
   "cell_type": "code",
   "execution_count": 80,
   "metadata": {},
   "outputs": [
    {
     "data": {
      "text/plain": [
       "0.0014849853757245013"
      ]
     },
     "execution_count": 80,
     "metadata": {},
     "output_type": "execute_result"
    }
   ],
   "source": [
    "diff(100, 200)"
   ]
  },
  {
   "cell_type": "markdown",
   "metadata": {},
   "source": [
    "And compared that to:"
   ]
  },
  {
   "cell_type": "code",
   "execution_count": 81,
   "metadata": {},
   "outputs": [
    {
     "data": {
      "text/plain": [
       "0.0004949951252417595"
      ]
     },
     "execution_count": 81,
     "metadata": {},
     "output_type": "execute_result"
    }
   ],
   "source": [
    "diff(200, 300)"
   ]
  },
  {
   "cell_type": "markdown",
   "metadata": {},
   "source": [
    "And the ratio is:"
   ]
  },
  {
   "cell_type": "code",
   "execution_count": 82,
   "metadata": {},
   "outputs": [
    {
     "data": {
      "text/plain": [
       "2.99999999999843"
      ]
     },
     "execution_count": 82,
     "metadata": {},
     "output_type": "execute_result"
    }
   ],
   "source": [
    "diff(100, 200) / diff(200, 300)"
   ]
  },
  {
   "cell_type": "markdown",
   "metadata": {},
   "source": [
    "Wow&mdash; that is close, let's check some other values:"
   ]
  },
  {
   "cell_type": "code",
   "execution_count": 83,
   "metadata": {},
   "outputs": [
    {
     "data": {
      "text/plain": [
       "2.999999999992991"
      ]
     },
     "execution_count": 83,
     "metadata": {},
     "output_type": "execute_result"
    }
   ],
   "source": [
    "n = 250; diff(n, 2*n) / diff(2*n, 3*n)"
   ]
  },
  {
   "cell_type": "code",
   "execution_count": 84,
   "metadata": {},
   "outputs": [
    {
     "data": {
      "text/plain": [
       "2.999999999997757"
      ]
     },
     "execution_count": 84,
     "metadata": {},
     "output_type": "execute_result"
    }
   ],
   "source": [
    "n = 500; diff(n, 2*n) / diff(2*n, 3*n)"
   ]
  },
  {
   "cell_type": "markdown",
   "metadata": {},
   "source": [
    "It looks like we have our answer to the value of the power. Let's compare by writing a function."
   ]
  },
  {
   "cell_type": "markdown",
   "metadata": {},
   "source": [
    "We can plug them into a function that estimates the density:"
   ]
  },
  {
   "cell_type": "code",
   "execution_count": 85,
   "metadata": {},
   "outputs": [
    {
     "data": {
      "text/plain": [
       "(0.43233235838169337, 0.2969970751454783)"
      ]
     },
     "execution_count": 85,
     "metadata": {},
     "output_type": "execute_result"
    }
   ],
   "source": [
    "def f(X,B,C): return B+C/X\n",
    "\n",
    "((B,C), covariance) = curve_fit(f=f, xdata=Xs, ydata=[density(n) for n in Xs])\n",
    "\n",
    "B,C"
   ]
  },
  {
   "cell_type": "code",
   "execution_count": 86,
   "metadata": {},
   "outputs": [],
   "source": [
    "def estimated_density(n): return B + C / n"
   ]
  },
  {
   "cell_type": "markdown",
   "metadata": {},
   "source": [
    "And we can test how close this function is to the true `density` function:"
   ]
  },
  {
   "cell_type": "code",
   "execution_count": 87,
   "metadata": {},
   "outputs": [
    {
     "data": {
      "text/plain": [
       "1.4432899320127035e-15"
      ]
     },
     "execution_count": 87,
     "metadata": {},
     "output_type": "execute_result"
    }
   ],
   "source": [
    "max(abs(density(n) - estimated_density(n))\n",
    "    for n in range(200, 4000))"
   ]
  },
  {
   "cell_type": "markdown",
   "metadata": {},
   "source": [
    "That says that, for all values of `n` from 200 to 4,000, `density(n)` and `estimated_density(n)` agree at least through the first 15 decimal places!\n",
    "\n",
    "We now have a plausible answer to the problem:\n",
    "\n",
    "> lim<sub style=\"font-size:large\"> <tt>n</tt>&rarr;&infin;</sub> <tt>density(n) &cong;  0.43233235838169365</tt>"
   ]
  },
  {
   "cell_type": "markdown",
   "metadata": {},
   "source": [
    "# Why?\n",
    "\n",
    "We feel good about our results but we still don't have a proof. At this point Peter, used google to gain more insights and this is what he found:\n",
    "\n",
    "- Search: [`[0.4323323]`](https://www.google.com/search?q=0.4323323) Formula: `sinh(1) / exp(1)` [(Page)](http://arxiv.org/pdf/1310.4360.pdf)\n",
    "- Search: [`[0.432332358]`](https://www.google.com/search?q=0.432332358) Formula: `0.5(1-e^(-2))` [(Page)](http://www.actuarialoutpost.com/actuarial_discussion_forum/archive/index.php/t-52095.html)\n",
    "\n",
    "Looks like an answer:"
   ]
  },
  {
   "cell_type": "code",
   "execution_count": 88,
   "metadata": {},
   "outputs": [
    {
     "data": {
      "text/plain": [
       "(0.43233235838169365, 0.43233235838169365, 0.43233235838169337)"
      ]
     },
     "execution_count": 88,
     "metadata": {},
     "output_type": "execute_result"
    }
   ],
   "source": [
    "from math import sinh, exp, e\n",
    "\n",
    "S = sinh(1) / exp(1)\n",
    "E = 0.5 * (1 - e ** (-2))\n",
    "\n",
    "S, E, B"
   ]
  },
  {
   "cell_type": "markdown",
   "metadata": {},
   "source": [
    "We suspect that\n",
    "\n",
    "> lim <sub>n &rarr; &infin;</sub> density(n) = (1 - e<sup>-2</sup>) / 2\n",
    "\n",
    "but again this is no proof."
   ]
  },
  {
   "cell_type": "markdown",
   "metadata": {},
   "source": [
    "## Analytic Solution    \n",
    "\n",
    "We will use generating functions to solve. Read section about [generating functions](https://en.wikipedia.org/wiki/Generating_function). \n",
    "\n",
    "Let's start with our recursion equation:\n",
    "\n",
    "$$E_{n} = 1+ {2 \\over n} \\sum_{i=1}^{n-2}E_{i}$$. \n",
    "\n",
    "To make it easier for notation, let \n",
    "$$s_{n-2} = \\sum_{i=1}^{n-2}E_{i}$$\n",
    "\n",
    "Now we have our recursion equation which we will call (1):\n",
    "$$E_{n} = 1+ {2 \\over n} s_{n-2}$$\n",
    "\n",
    "We also have, equation (2):\n",
    "\n",
    "$$s_{n}= \\sum_{i=1}^{n}E_{i}= E_{n} +\\sum_{i=1}^{n-1}E_{i} = E_{n} + s_{n-1}$$\n",
    "\n",
    "These are our two recursion equations. Now we introduce the generating functions.  \n",
    "\n",
    "Let $$E(x)=\\sum_{n=0}^{\\infty}E_{n}x^n$$ and\n",
    "\n",
    "$$S(x)=\\sum_{n=0}^{\\infty}s_{n}x^n$$  \n",
    "\n",
    "Now let's look at some properties of the generating function, we will use $S(x)$ as our reference. \n",
    "\n",
    "$$S(x) = s_0 + s_1 x + s_2 x + ....$$\n",
    "$$xS(x) = s_0 x+ s_1 x^2 + s_2 x^3 + ....$$\n",
    "$$S'(x) = s_1  + s_2 x + s_2 x^2 ....$$  \n",
    "\n",
    "We are going to multiple by $x^n$ and sum from $n=0$ to $n = \\infty$ to get our generating functions.  We will define $E_{0}=0$. Thus the left had side of equation (1) is:\n",
    "$$E(x)=\\sum_{n=0}^{\\infty}E_{n}x^n$$\n",
    "On the right hand side of (1) we will handle the $1$ first. From the book we have:\n",
    "$$\\sum_{n=0}^{\\infty}x^n = {1 \\over (1-x)}$$\n",
    "\n",
    "The last term on the right-hand side of (1) is tricky. First we will have to define a new function which is the expansion of the product:\n",
    "$$G(x) = 2[{1 \\over 2}s_0 x^2 + {1 \\over 3}s_1 x^3 + ... + {1 \\over m}s_m-2 x^m + ....]$$\n",
    "Now taking the derivative with respect to $x$ yields:\n",
    "$$G'(x)=2[s_0 x + s_1 x^2 + ... + s_m-2 x^{m-1} + ....]$$\n",
    "But what is in the brackets is $xS(x)$, from above thus\n",
    "$$G'(x) = 2xS(x)$$\n",
    "\n",
    "Rewriting (1) as\n",
    "$$E(x)={1 \\over (1-x)} + G(x)$$\n",
    "\n",
    "By similar reasoning for (2) we have:\n",
    "$$S(x)=E(x)+xS(x)$$  or\n",
    "$$E(x)=S(x)(1-x)$$\n",
    "Now we are ready to solve.  Setting the two equations above equal to each other we have:\n",
    "$$S(x)(1-x) = {1 \\over (1-x)} + G(x)$$\n",
    "Taking the derivative of each side with respect to $x$ yields:\n",
    "$$S'(x)(1-x)-S(x)={1 \\over (1-x)^2} + G'(x) = {1 \\over (1-x)^2} +2xS(x)$$\n",
    "or\n",
    "$$S'(x)(1-x)-(1+2x)S(x)={1 \\over (1-x)^2}$$\n",
    "This is a first order variable coefficient linear inhomongenous differential equation. We will not solve this but the solution is\n",
    "$$S(x)={(1-e^{-2x}) \\over (1-x)^3}$$\n",
    "Using the relation above we have the generating function:\n",
    "$$E(x)={(1-e^{-2x}) \\over (1-x)^2}$$  \n",
    "\n",
    "To find any average occupancy, $E_n$, we would have to take the nth derivative of $E(X)$ and evaluate at 0. We don't want to use this formula to find the coefficeints, $E_n$ but the long-term behaviour. This is called the [asympotic growth](https://en.wikipedia.org/wiki/Generating_function) of the sequence $E_n$. Using the referenced Wikipedia site, we have\n",
    "$$E_n \\sim {B(r) \\over r^\\alpha \\Gamma(\\beta)} n^{\\beta - 1}\\left( {1 \\over r} \\right)^n$$\n",
    "Since we have $ (1-x)^2$ in the denominator, $r=1$. We also have $B(x) = 1-e^{-2x}$, $\\beta = 2$, and $\\alpha = 0$. We also know that $\\Gamma(n)=n!$. Thus we have\n",
    "$$E_n \\sim { 1-e^{-2 * 1}\\over 1^0 \\Gamma(2)} n^{1}\\left( {1 \\over 1} \\right)^n = { 1-e^{-2}\\over 2} n$$\n",
    "Finally\n",
    "$$\\lim_{n\\to\\infty}{E_n \\over n} = { 1-e^{-2}\\over 2}$$ "
   ]
  },
  {
   "cell_type": "code",
   "execution_count": 89,
   "metadata": {},
   "outputs": [
    {
     "data": {
      "text/plain": [
       "0.43233235838169365"
      ]
     },
     "execution_count": 89,
     "metadata": {},
     "output_type": "execute_result"
    }
   ],
   "source": [
    "(1-np.exp(-2))/2"
   ]
  },
  {
   "cell_type": "markdown",
   "metadata": {},
   "source": [
    "# Compare Techniques\n",
    "\n",
    "Let's compare the three techniques from simulation, to recursion, and curve fitting."
   ]
  },
  {
   "cell_type": "markdown",
   "metadata": {},
   "source": [
    "Let's run the simulation for if the simulation returns results that match the actual `density` function and the `estimated_density` function:"
   ]
  },
  {
   "cell_type": "code",
   "execution_count": 90,
   "metadata": {},
   "outputs": [
    {
     "name": "stdout",
     "output_type": "stream",
     "text": [
      "   n   simulate  density   estimated\n",
      "  10   0.4622    0.4620    0.4620\n",
      "  25   0.4442    0.4442    0.4442\n",
      "  50   0.4383    0.4383    0.4383\n",
      " 100   0.4354    0.4353    0.4353\n",
      " 200   0.4338    0.4338    0.4338\n",
      " 400   0.4330    0.4331    0.4331\n"
     ]
    }
   ],
   "source": [
    "print('   n   simulate  density   estimated')\n",
    "for n in (10, 25, 50, 100, 200, 400):\n",
    "    print('{:4d}   {:.4f}    {:.4f}    {:.4f}'\n",
    "          .format(n, simulated_density(n), density(n), estimated_density(n)))"
   ]
  },
  {
   "cell_type": "markdown",
   "metadata": {},
   "source": [
    "We get good agreement (at least to 3 decimal places), suggesting that either our three implementations are all correct, or we've made  mistakes in all three. "
   ]
  },
  {
   "cell_type": "markdown",
   "metadata": {},
   "source": [
    "# Conclusion\n",
    "\n",
    "Using three different approaches we found:\n",
    "\n",
    "> <tt>lim <sub>n &rarr; &infin;</sub> density(n) = (1 - e<sup>-2</sup>) / 2 &cong; 0.43233235838169365 </tt>"
   ]
  }
 ],
 "metadata": {
  "kernelspec": {
   "display_name": "Python 3",
   "language": "python",
   "name": "python3"
  },
  "language_info": {
   "codemirror_mode": {
    "name": "ipython",
    "version": 3
   },
   "file_extension": ".py",
   "mimetype": "text/x-python",
   "name": "python",
   "nbconvert_exporter": "python",
   "pygments_lexer": "ipython3",
   "version": "3.6.4"
  }
 },
 "nbformat": 4,
 "nbformat_minor": 1
}
